{
    "cells": [
        {
            "cell_type": "code",
            "execution_count": 131,
            "metadata": {},
            "outputs": [],
            "source": [
                "import json\n",
                "import requests\n",
                "import time\n",
                "import yaml\n",
                "from IPython.display import clear_output\n",
                "from pprint import pprint\n",
                "\n",
                "from ai_api_client_sdk.ai_api_v2_client import AIAPIV2Client\n",
                "from ai_api_client_sdk.models.artifact import Artifact\n",
                "from ai_api_client_sdk.models.status import Status\n",
                "from ai_api_client_sdk.models.target_status import TargetStatus\n",
                "from ai_api_client_sdk.models.input_artifact_binding import InputArtifactBinding"
            ]
        },
        {
            "cell_type": "code",
            "execution_count": 132,
            "metadata": {},
            "outputs": [],
            "source": [
                "# Setup\n",
                "aic_service_key_path = '../resources/aic_service_key.json'\n",
                "git_setup_file_path = \"../resources/git_setup.json\"\n",
                "docker_secret_file_path = '../resources/docker_secret.json'\n",
                "resource_group = \"restaurant-inspections\"\n",
                "s3_service_key_path = '../resources/s3_service_key.json'\n",
                "training_workflow_file = '../workflows/train.yaml'\n",
                "serving_workflow_file = '../workflows/serve.yaml'\n",
                "connection_name = \"default\"\n",
                "path_prefix = \"app\""
            ]
        },
        {
            "cell_type": "markdown",
            "metadata": {},
            "source": [
                "# Manage the ML lifecycle in the cloud using AI Core and AI Core Python SDK"
            ]
        },
        {
            "cell_type": "markdown",
            "metadata": {},
            "source": [
                "### Connect to your AI Core instance"
            ]
        },
        {
            "cell_type": "code",
            "execution_count": 133,
            "metadata": {},
            "outputs": [],
            "source": [
                "with open(aic_service_key_path) as ask:\n",
                "    aic_service_key = json.load(ask)\n",
                "\n",
                "# AI API client that talks to the AI Core instance.\n",
                "ai_api_client = AIAPIV2Client(\n",
                "    base_url = aic_service_key[\"serviceurls\"][\"AI_API_URL\"] + \"/v2\", # The present AI API version is 2\n",
                "    auth_url=  aic_service_key[\"url\"] + \"/oauth/token\",\n",
                "    client_id = aic_service_key['clientid'],\n",
                "    client_secret = aic_service_key['clientsecret']\n",
                ")"
            ]
        },
        {
            "cell_type": "markdown",
            "metadata": {},
            "source": [
                "### Onboard your Git repository that contains the templates"
            ]
        },
        {
            "cell_type": "code",
            "execution_count": 135,
            "metadata": {},
            "outputs": [
                {
                    "ename": "AIAPIServerException",
                    "evalue": "Failed to post /admin/repositories: Repository is already onboarded",
                    "output_type": "error",
                    "traceback": [
                        "\u001b[0;31m---------------------------------------------------------------------------\u001b[0m",
                        "\u001b[0;31mAIAPIServerException\u001b[0m                      Traceback (most recent call last)",
                        "\u001b[1;32m/Users/I529695/Projects/sce/DiscoveryCenter/qatargas/aicore-restaurant-inspections/src/main.ipynb Cell 7'\u001b[0m in \u001b[0;36m<cell line: 6>\u001b[0;34m()\u001b[0m\n\u001b[1;32m      <a href='vscode-notebook-cell:/Users/I529695/Projects/sce/DiscoveryCenter/qatargas/aicore-restaurant-inspections/src/main.ipynb#ch0000006?line=1'>2</a>\u001b[0m \t\tsetup_json \u001b[39m=\u001b[39m json\u001b[39m.\u001b[39mload(gs)\n\u001b[1;32m      <a href='vscode-notebook-cell:/Users/I529695/Projects/sce/DiscoveryCenter/qatargas/aicore-restaurant-inspections/src/main.ipynb#ch0000006?line=3'>4</a>\u001b[0m repo_json \u001b[39m=\u001b[39m setup_json[\u001b[39m\"\u001b[39m\u001b[39mrepo\u001b[39m\u001b[39m\"\u001b[39m]\n\u001b[0;32m----> <a href='vscode-notebook-cell:/Users/I529695/Projects/sce/DiscoveryCenter/qatargas/aicore-restaurant-inspections/src/main.ipynb#ch0000006?line=5'>6</a>\u001b[0m response \u001b[39m=\u001b[39m ai_api_client\u001b[39m.\u001b[39;49mrest_client\u001b[39m.\u001b[39;49mpost(\n\u001b[1;32m      <a href='vscode-notebook-cell:/Users/I529695/Projects/sce/DiscoveryCenter/qatargas/aicore-restaurant-inspections/src/main.ipynb#ch0000006?line=6'>7</a>\u001b[0m \t\tpath\u001b[39m=\u001b[39;49m\u001b[39m\"\u001b[39;49m\u001b[39m/admin/repositories\u001b[39;49m\u001b[39m\"\u001b[39;49m,\n\u001b[1;32m      <a href='vscode-notebook-cell:/Users/I529695/Projects/sce/DiscoveryCenter/qatargas/aicore-restaurant-inspections/src/main.ipynb#ch0000006?line=7'>8</a>\u001b[0m \t\tbody\u001b[39m=\u001b[39;49m{\n\u001b[1;32m      <a href='vscode-notebook-cell:/Users/I529695/Projects/sce/DiscoveryCenter/qatargas/aicore-restaurant-inspections/src/main.ipynb#ch0000006?line=8'>9</a>\u001b[0m \t\t\t\t\u001b[39m\"\u001b[39;49m\u001b[39mname\u001b[39;49m\u001b[39m\"\u001b[39;49m: repo_json[\u001b[39m\"\u001b[39;49m\u001b[39mname\u001b[39;49m\u001b[39m\"\u001b[39;49m],\n\u001b[1;32m     <a href='vscode-notebook-cell:/Users/I529695/Projects/sce/DiscoveryCenter/qatargas/aicore-restaurant-inspections/src/main.ipynb#ch0000006?line=9'>10</a>\u001b[0m \t\t\t\t\u001b[39m\"\u001b[39;49m\u001b[39murl\u001b[39;49m\u001b[39m\"\u001b[39;49m: repo_json[\u001b[39m\"\u001b[39;49m\u001b[39murl\u001b[39;49m\u001b[39m\"\u001b[39;49m],\n\u001b[1;32m     <a href='vscode-notebook-cell:/Users/I529695/Projects/sce/DiscoveryCenter/qatargas/aicore-restaurant-inspections/src/main.ipynb#ch0000006?line=10'>11</a>\u001b[0m \t\t\t\t\u001b[39m\"\u001b[39;49m\u001b[39musername\u001b[39;49m\u001b[39m\"\u001b[39;49m: repo_json[\u001b[39m\"\u001b[39;49m\u001b[39musername\u001b[39;49m\u001b[39m\"\u001b[39;49m],\n\u001b[1;32m     <a href='vscode-notebook-cell:/Users/I529695/Projects/sce/DiscoveryCenter/qatargas/aicore-restaurant-inspections/src/main.ipynb#ch0000006?line=11'>12</a>\u001b[0m \t\t\t\t\u001b[39m\"\u001b[39;49m\u001b[39mpassword\u001b[39;49m\u001b[39m\"\u001b[39;49m: repo_json[\u001b[39m\"\u001b[39;49m\u001b[39mpassword\u001b[39;49m\u001b[39m\"\u001b[39;49m]\n\u001b[1;32m     <a href='vscode-notebook-cell:/Users/I529695/Projects/sce/DiscoveryCenter/qatargas/aicore-restaurant-inspections/src/main.ipynb#ch0000006?line=12'>13</a>\u001b[0m \t\t}\n\u001b[1;32m     <a href='vscode-notebook-cell:/Users/I529695/Projects/sce/DiscoveryCenter/qatargas/aicore-restaurant-inspections/src/main.ipynb#ch0000006?line=13'>14</a>\u001b[0m )\n\u001b[1;32m     <a href='vscode-notebook-cell:/Users/I529695/Projects/sce/DiscoveryCenter/qatargas/aicore-restaurant-inspections/src/main.ipynb#ch0000006?line=14'>15</a>\u001b[0m \u001b[39mprint\u001b[39m(response)\n",
                        "File \u001b[0;32m/usr/local/Caskroom/miniconda/base/envs/qatar-dc/lib/python3.9/site-packages/ai_api_client_sdk/helpers/rest_client.py:108\u001b[0m, in \u001b[0;36mRestClient.post\u001b[0;34m(self, path, body, resource_group)\u001b[0m\n\u001b[1;32m     83\u001b[0m \u001b[39mdef\u001b[39;00m \u001b[39mpost\u001b[39m(\u001b[39mself\u001b[39m, path: \u001b[39mstr\u001b[39m, body: Dict[\u001b[39mstr\u001b[39m, Union[\u001b[39mstr\u001b[39m, \u001b[39mdict\u001b[39m]] \u001b[39m=\u001b[39m \u001b[39mNone\u001b[39;00m, resource_group: \u001b[39mstr\u001b[39m \u001b[39m=\u001b[39m \u001b[39mNone\u001b[39;00m) \u001b[39m-\u001b[39m\u001b[39m>\u001b[39m \u001b[39mdict\u001b[39m:\n\u001b[1;32m     84\u001b[0m     \u001b[39m\"\"\"Sends a POST request to the server.\u001b[39;00m\n\u001b[1;32m     85\u001b[0m \n\u001b[1;32m     86\u001b[0m \u001b[39m    :param path: path of the endpoint the request should be sent to\u001b[39;00m\n\u001b[0;32m   (...)\u001b[0m\n\u001b[1;32m    106\u001b[0m \u001b[39m    :rtype: dict\u001b[39;00m\n\u001b[1;32m    107\u001b[0m \u001b[39m    \"\"\"\u001b[39;00m\n\u001b[0;32m--> 108\u001b[0m     \u001b[39mreturn\u001b[39;00m \u001b[39mself\u001b[39;49m\u001b[39m.\u001b[39;49m_handle_request(\u001b[39m'\u001b[39;49m\u001b[39mpost\u001b[39;49m\u001b[39m'\u001b[39;49m, path\u001b[39m=\u001b[39;49mpath, body_json\u001b[39m=\u001b[39;49mbody, resource_group\u001b[39m=\u001b[39;49mresource_group)\n",
                        "File \u001b[0;32m/usr/local/Caskroom/miniconda/base/envs/qatar-dc/lib/python3.9/site-packages/ai_api_client_sdk/helpers/rest_client.py:75\u001b[0m, in \u001b[0;36mRestClient._handle_request\u001b[0;34m(self, method, path, params, body_json, resource_group)\u001b[0m\n\u001b[1;32m     71\u001b[0m         \u001b[39mraise\u001b[39;00m AIAPIPreconditionFailedException(description\u001b[39m=\u001b[39merror_description, error_message\u001b[39m=\u001b[39merror_message,\n\u001b[1;32m     72\u001b[0m                                                error_code\u001b[39m=\u001b[39merror_code, request_id\u001b[39m=\u001b[39mrequest_id,\n\u001b[1;32m     73\u001b[0m                                                details\u001b[39m=\u001b[39merror_details)\n\u001b[1;32m     74\u001b[0m     \u001b[39melse\u001b[39;00m:\n\u001b[0;32m---> 75\u001b[0m         \u001b[39mraise\u001b[39;00m AIAPIServerException(status_code\u001b[39m=\u001b[39mstatus_code, description\u001b[39m=\u001b[39merror_description,\n\u001b[1;32m     76\u001b[0m                                    error_message\u001b[39m=\u001b[39merror_message, error_code\u001b[39m=\u001b[39merror_code, request_id\u001b[39m=\u001b[39mrequest_id,\n\u001b[1;32m     77\u001b[0m                                    details\u001b[39m=\u001b[39merror_details)\n\u001b[1;32m     78\u001b[0m \u001b[39melif\u001b[39;00m response\u001b[39m.\u001b[39mstatus_code \u001b[39m/\u001b[39m\u001b[39m/\u001b[39m \u001b[39m100\u001b[39m \u001b[39m!=\u001b[39m \u001b[39m2\u001b[39m:\n\u001b[1;32m     79\u001b[0m     \u001b[39mraise\u001b[39;00m AIAPIServerException(description\u001b[39m=\u001b[39merror_description, error_message\u001b[39m=\u001b[39mresponse\u001b[39m.\u001b[39mtext,\n\u001b[1;32m     80\u001b[0m                                status_code\u001b[39m=\u001b[39mresponse\u001b[39m.\u001b[39mstatus_code)\n",
                        "\u001b[0;31mAIAPIServerException\u001b[0m: Failed to post /admin/repositories: Repository is already onboarded"
                    ]
                }
            ],
            "source": [
                "with open(git_setup_file_path) as gs:\n",
                "\t\tsetup_json = json.load(gs)\n",
                "\n",
                "repo_json = setup_json[\"repo\"]\n",
                "\n",
                "response = ai_api_client.rest_client.post(\n",
                "\t\tpath=\"/admin/repositories\",\n",
                "\t\tbody={\n",
                "\t\t\t\t\"name\": repo_json[\"name\"],\n",
                "\t\t\t\t\"url\": repo_json[\"url\"],\n",
                "\t\t\t\t\"username\": repo_json[\"username\"],\n",
                "\t\t\t\t\"password\": repo_json[\"password\"]\n",
                "\t\t}\n",
                ")\n",
                "print(response)"
            ]
        },
        {
            "cell_type": "markdown",
            "metadata": {},
            "source": [
                "### Register an application"
            ]
        },
        {
            "cell_type": "code",
            "execution_count": 136,
            "metadata": {},
            "outputs": [
                {
                    "ename": "AIAPIServerException",
                    "evalue": "Failed to post /admin/applications: {\"kind\":\"Status\",\"apiVersion\":\"v1\",\"metadata\":{},\"status\":\"Failure\",\"message\":\"applications.argoproj.io \\\"465f1721-aicore-restaurant-inspections-regression\\\" already exists\",\"reason\":\"AlreadyExists\",\"details\":{\"name\":\"465f1721-aicore-restaurant-inspections-regression\",\"group\":\"argoproj.io\",\"kind\":\"applications\"},\"code\":409}\n",
                    "output_type": "error",
                    "traceback": [
                        "\u001b[0;31m---------------------------------------------------------------------------\u001b[0m",
                        "\u001b[0;31mAIAPIServerException\u001b[0m                      Traceback (most recent call last)",
                        "\u001b[1;32m/Users/I529695/Projects/sce/DiscoveryCenter/qatargas/aicore-restaurant-inspections/src/main.ipynb Cell 9'\u001b[0m in \u001b[0;36m<cell line: 2>\u001b[0;34m()\u001b[0m\n\u001b[1;32m      <a href='vscode-notebook-cell:/Users/I529695/Projects/sce/DiscoveryCenter/qatargas/aicore-restaurant-inspections/src/main.ipynb#ch0000008?line=0'>1</a>\u001b[0m app_json \u001b[39m=\u001b[39m setup_json[\u001b[39m\"\u001b[39m\u001b[39mapp\u001b[39m\u001b[39m\"\u001b[39m]\n\u001b[0;32m----> <a href='vscode-notebook-cell:/Users/I529695/Projects/sce/DiscoveryCenter/qatargas/aicore-restaurant-inspections/src/main.ipynb#ch0000008?line=1'>2</a>\u001b[0m response \u001b[39m=\u001b[39m ai_api_client\u001b[39m.\u001b[39;49mrest_client\u001b[39m.\u001b[39;49mpost(\n\u001b[1;32m      <a href='vscode-notebook-cell:/Users/I529695/Projects/sce/DiscoveryCenter/qatargas/aicore-restaurant-inspections/src/main.ipynb#ch0000008?line=2'>3</a>\u001b[0m \t\tpath\u001b[39m=\u001b[39;49m\u001b[39m\"\u001b[39;49m\u001b[39m/admin/applications\u001b[39;49m\u001b[39m\"\u001b[39;49m,\n\u001b[1;32m      <a href='vscode-notebook-cell:/Users/I529695/Projects/sce/DiscoveryCenter/qatargas/aicore-restaurant-inspections/src/main.ipynb#ch0000008?line=3'>4</a>\u001b[0m \t\tbody\u001b[39m=\u001b[39;49m{\n\u001b[1;32m      <a href='vscode-notebook-cell:/Users/I529695/Projects/sce/DiscoveryCenter/qatargas/aicore-restaurant-inspections/src/main.ipynb#ch0000008?line=4'>5</a>\u001b[0m \t\t\t\t\u001b[39m\"\u001b[39;49m\u001b[39mapplicationName\u001b[39;49m\u001b[39m\"\u001b[39;49m: app_json[\u001b[39m\"\u001b[39;49m\u001b[39mapplicationName\u001b[39;49m\u001b[39m\"\u001b[39;49m],\n\u001b[1;32m      <a href='vscode-notebook-cell:/Users/I529695/Projects/sce/DiscoveryCenter/qatargas/aicore-restaurant-inspections/src/main.ipynb#ch0000008?line=5'>6</a>\u001b[0m \t\t\t\t\u001b[39m\"\u001b[39;49m\u001b[39mrepositoryUrl\u001b[39;49m\u001b[39m\"\u001b[39;49m: app_json[\u001b[39m\"\u001b[39;49m\u001b[39mrepositoryUrl\u001b[39;49m\u001b[39m\"\u001b[39;49m],\n\u001b[1;32m      <a href='vscode-notebook-cell:/Users/I529695/Projects/sce/DiscoveryCenter/qatargas/aicore-restaurant-inspections/src/main.ipynb#ch0000008?line=6'>7</a>\u001b[0m \t\t\t\t\u001b[39m\"\u001b[39;49m\u001b[39mrevision\u001b[39;49m\u001b[39m\"\u001b[39;49m: app_json[\u001b[39m\"\u001b[39;49m\u001b[39mrevision\u001b[39;49m\u001b[39m\"\u001b[39;49m],\n\u001b[1;32m      <a href='vscode-notebook-cell:/Users/I529695/Projects/sce/DiscoveryCenter/qatargas/aicore-restaurant-inspections/src/main.ipynb#ch0000008?line=7'>8</a>\u001b[0m \t\t\t\t\u001b[39m\"\u001b[39;49m\u001b[39mpath\u001b[39;49m\u001b[39m\"\u001b[39;49m: app_json[\u001b[39m\"\u001b[39;49m\u001b[39mpath\u001b[39;49m\u001b[39m\"\u001b[39;49m]\n\u001b[1;32m      <a href='vscode-notebook-cell:/Users/I529695/Projects/sce/DiscoveryCenter/qatargas/aicore-restaurant-inspections/src/main.ipynb#ch0000008?line=8'>9</a>\u001b[0m \t\t}\n\u001b[1;32m     <a href='vscode-notebook-cell:/Users/I529695/Projects/sce/DiscoveryCenter/qatargas/aicore-restaurant-inspections/src/main.ipynb#ch0000008?line=9'>10</a>\u001b[0m )\n",
                        "File \u001b[0;32m/usr/local/Caskroom/miniconda/base/envs/qatar-dc/lib/python3.9/site-packages/ai_api_client_sdk/helpers/rest_client.py:108\u001b[0m, in \u001b[0;36mRestClient.post\u001b[0;34m(self, path, body, resource_group)\u001b[0m\n\u001b[1;32m     83\u001b[0m \u001b[39mdef\u001b[39;00m \u001b[39mpost\u001b[39m(\u001b[39mself\u001b[39m, path: \u001b[39mstr\u001b[39m, body: Dict[\u001b[39mstr\u001b[39m, Union[\u001b[39mstr\u001b[39m, \u001b[39mdict\u001b[39m]] \u001b[39m=\u001b[39m \u001b[39mNone\u001b[39;00m, resource_group: \u001b[39mstr\u001b[39m \u001b[39m=\u001b[39m \u001b[39mNone\u001b[39;00m) \u001b[39m-\u001b[39m\u001b[39m>\u001b[39m \u001b[39mdict\u001b[39m:\n\u001b[1;32m     84\u001b[0m     \u001b[39m\"\"\"Sends a POST request to the server.\u001b[39;00m\n\u001b[1;32m     85\u001b[0m \n\u001b[1;32m     86\u001b[0m \u001b[39m    :param path: path of the endpoint the request should be sent to\u001b[39;00m\n\u001b[0;32m   (...)\u001b[0m\n\u001b[1;32m    106\u001b[0m \u001b[39m    :rtype: dict\u001b[39;00m\n\u001b[1;32m    107\u001b[0m \u001b[39m    \"\"\"\u001b[39;00m\n\u001b[0;32m--> 108\u001b[0m     \u001b[39mreturn\u001b[39;00m \u001b[39mself\u001b[39;49m\u001b[39m.\u001b[39;49m_handle_request(\u001b[39m'\u001b[39;49m\u001b[39mpost\u001b[39;49m\u001b[39m'\u001b[39;49m, path\u001b[39m=\u001b[39;49mpath, body_json\u001b[39m=\u001b[39;49mbody, resource_group\u001b[39m=\u001b[39;49mresource_group)\n",
                        "File \u001b[0;32m/usr/local/Caskroom/miniconda/base/envs/qatar-dc/lib/python3.9/site-packages/ai_api_client_sdk/helpers/rest_client.py:75\u001b[0m, in \u001b[0;36mRestClient._handle_request\u001b[0;34m(self, method, path, params, body_json, resource_group)\u001b[0m\n\u001b[1;32m     71\u001b[0m         \u001b[39mraise\u001b[39;00m AIAPIPreconditionFailedException(description\u001b[39m=\u001b[39merror_description, error_message\u001b[39m=\u001b[39merror_message,\n\u001b[1;32m     72\u001b[0m                                                error_code\u001b[39m=\u001b[39merror_code, request_id\u001b[39m=\u001b[39mrequest_id,\n\u001b[1;32m     73\u001b[0m                                                details\u001b[39m=\u001b[39merror_details)\n\u001b[1;32m     74\u001b[0m     \u001b[39melse\u001b[39;00m:\n\u001b[0;32m---> 75\u001b[0m         \u001b[39mraise\u001b[39;00m AIAPIServerException(status_code\u001b[39m=\u001b[39mstatus_code, description\u001b[39m=\u001b[39merror_description,\n\u001b[1;32m     76\u001b[0m                                    error_message\u001b[39m=\u001b[39merror_message, error_code\u001b[39m=\u001b[39merror_code, request_id\u001b[39m=\u001b[39mrequest_id,\n\u001b[1;32m     77\u001b[0m                                    details\u001b[39m=\u001b[39merror_details)\n\u001b[1;32m     78\u001b[0m \u001b[39melif\u001b[39;00m response\u001b[39m.\u001b[39mstatus_code \u001b[39m/\u001b[39m\u001b[39m/\u001b[39m \u001b[39m100\u001b[39m \u001b[39m!=\u001b[39m \u001b[39m2\u001b[39m:\n\u001b[1;32m     79\u001b[0m     \u001b[39mraise\u001b[39;00m AIAPIServerException(description\u001b[39m=\u001b[39merror_description, error_message\u001b[39m=\u001b[39mresponse\u001b[39m.\u001b[39mtext,\n\u001b[1;32m     80\u001b[0m                                status_code\u001b[39m=\u001b[39mresponse\u001b[39m.\u001b[39mstatus_code)\n",
                        "\u001b[0;31mAIAPIServerException\u001b[0m: Failed to post /admin/applications: {\"kind\":\"Status\",\"apiVersion\":\"v1\",\"metadata\":{},\"status\":\"Failure\",\"message\":\"applications.argoproj.io \\\"465f1721-aicore-restaurant-inspections-regression\\\" already exists\",\"reason\":\"AlreadyExists\",\"details\":{\"name\":\"465f1721-aicore-restaurant-inspections-regression\",\"group\":\"argoproj.io\",\"kind\":\"applications\"},\"code\":409}\n"
                    ]
                }
            ],
            "source": [
                "app_json = setup_json[\"app\"]\n",
                "response = ai_api_client.rest_client.post(\n",
                "\t\tpath=\"/admin/applications\",\n",
                "\t\tbody={\n",
                "\t\t\t\t\"applicationName\": app_json[\"applicationName\"],\n",
                "\t\t\t\t\"repositoryUrl\": app_json[\"repositoryUrl\"],\n",
                "\t\t\t\t\"revision\": app_json[\"revision\"],\n",
                "\t\t\t\t\"path\": app_json[\"path\"]\n",
                "\t\t}\n",
                ")"
            ]
        },
        {
            "cell_type": "markdown",
            "metadata": {},
            "source": [
                "### Register docker secret"
            ]
        },
        {
            "cell_type": "code",
            "execution_count": 137,
            "metadata": {},
            "outputs": [
                {
                    "name": "stdout",
                    "output_type": "stream",
                    "text": [
                        "{'message': 'Secret exists'}\n"
                    ]
                }
            ],
            "source": [
                "with open(docker_secret_file_path) as dsf:\n",
                "    docker_secret = json.load(dsf)\n",
                "\n",
                "response = ai_api_client.rest_client.post(\n",
                "    path=\"/admin/dockerRegistrySecrets\",\n",
                "    body={\n",
                "        \"name\": docker_secret[\"name\"],\n",
                "        \"data\": docker_secret[\"data\"]\n",
                "    }\n",
                ")\n",
                "print(response)"
            ]
        },
        {
            "cell_type": "markdown",
            "metadata": {},
            "source": [
                "### Create a resource group"
            ]
        },
        {
            "cell_type": "code",
            "execution_count": null,
            "metadata": {},
            "outputs": [],
            "source": [
                "ai_api_client.rest_client.post(\n",
                "    path=\"/admin/resourceGroups\",\n",
                "    body={\n",
                "        \"resourceGroupId\": resource_group\n",
                "    }\n",
                ")"
            ]
        },
        {
            "cell_type": "markdown",
            "metadata": {},
            "source": [
                "TRAINING DATASET NEEDS TO BE UPLOADED TO AMAZON S3 SEPARATELY, FOR EXAMPLE VIA AWS CLI.  \n",
                "See: https://developers.sap.com/tutorials/ai-core-aiapi-clientsdk-resources.html#45dcbe5b-a94f-461e-b9eb-54f2d965e930\n",
                "\n",
                "### Register secret to access dataset in Amazon S3 and create resource group"
            ]
        },
        {
            "cell_type": "code",
            "execution_count": 138,
            "metadata": {},
            "outputs": [
                {
                    "ename": "KeyboardInterrupt",
                    "evalue": "",
                    "output_type": "error",
                    "traceback": [
                        "\u001b[0;31m---------------------------------------------------------------------------\u001b[0m",
                        "\u001b[0;31mKeyboardInterrupt\u001b[0m                         Traceback (most recent call last)",
                        "\u001b[1;32m/Users/I529695/Projects/sce/DiscoveryCenter/qatargas/aicore-restaurant-inspections/src/main.ipynb Cell 15'\u001b[0m in \u001b[0;36m<cell line: 17>\u001b[0;34m()\u001b[0m\n\u001b[1;32m      <a href='vscode-notebook-cell:/Users/I529695/Projects/sce/DiscoveryCenter/qatargas/aicore-restaurant-inspections/src/main.ipynb#ch0000014?line=1'>2</a>\u001b[0m     s3_service_key \u001b[39m=\u001b[39m json\u001b[39m.\u001b[39mload(s3sk)\n\u001b[1;32m      <a href='vscode-notebook-cell:/Users/I529695/Projects/sce/DiscoveryCenter/qatargas/aicore-restaurant-inspections/src/main.ipynb#ch0000014?line=3'>4</a>\u001b[0m default_secret \u001b[39m=\u001b[39m {\n\u001b[1;32m      <a href='vscode-notebook-cell:/Users/I529695/Projects/sce/DiscoveryCenter/qatargas/aicore-restaurant-inspections/src/main.ipynb#ch0000014?line=4'>5</a>\u001b[0m     \u001b[39m\"\u001b[39m\u001b[39mname\u001b[39m\u001b[39m\"\u001b[39m: connection_name, \u001b[39m# Name of the connection.\u001b[39;00m\n\u001b[1;32m      <a href='vscode-notebook-cell:/Users/I529695/Projects/sce/DiscoveryCenter/qatargas/aicore-restaurant-inspections/src/main.ipynb#ch0000014?line=5'>6</a>\u001b[0m     \u001b[39m\"\u001b[39m\u001b[39mtype\u001b[39m\u001b[39m\"\u001b[39m: \u001b[39m\"\u001b[39m\u001b[39mS3\u001b[39m\u001b[39m\"\u001b[39m,\n\u001b[0;32m   (...)\u001b[0m\n\u001b[1;32m     <a href='vscode-notebook-cell:/Users/I529695/Projects/sce/DiscoveryCenter/qatargas/aicore-restaurant-inspections/src/main.ipynb#ch0000014?line=13'>14</a>\u001b[0m     }\n\u001b[1;32m     <a href='vscode-notebook-cell:/Users/I529695/Projects/sce/DiscoveryCenter/qatargas/aicore-restaurant-inspections/src/main.ipynb#ch0000014?line=14'>15</a>\u001b[0m }\n\u001b[0;32m---> <a href='vscode-notebook-cell:/Users/I529695/Projects/sce/DiscoveryCenter/qatargas/aicore-restaurant-inspections/src/main.ipynb#ch0000014?line=16'>17</a>\u001b[0m ai_api_client\u001b[39m.\u001b[39;49mrest_client\u001b[39m.\u001b[39;49mpost(\n\u001b[1;32m     <a href='vscode-notebook-cell:/Users/I529695/Projects/sce/DiscoveryCenter/qatargas/aicore-restaurant-inspections/src/main.ipynb#ch0000014?line=17'>18</a>\u001b[0m     path\u001b[39m=\u001b[39;49m\u001b[39m\"\u001b[39;49m\u001b[39m/admin/objectStoreSecrets\u001b[39;49m\u001b[39m\"\u001b[39;49m,\n\u001b[1;32m     <a href='vscode-notebook-cell:/Users/I529695/Projects/sce/DiscoveryCenter/qatargas/aicore-restaurant-inspections/src/main.ipynb#ch0000014?line=18'>19</a>\u001b[0m     body \u001b[39m=\u001b[39;49m default_secret,\n\u001b[1;32m     <a href='vscode-notebook-cell:/Users/I529695/Projects/sce/DiscoveryCenter/qatargas/aicore-restaurant-inspections/src/main.ipynb#ch0000014?line=19'>20</a>\u001b[0m     resource_group \u001b[39m=\u001b[39;49m resource_group\n\u001b[1;32m     <a href='vscode-notebook-cell:/Users/I529695/Projects/sce/DiscoveryCenter/qatargas/aicore-restaurant-inspections/src/main.ipynb#ch0000014?line=20'>21</a>\u001b[0m )\n",
                        "File \u001b[0;32m/usr/local/Caskroom/miniconda/base/envs/qatar-dc/lib/python3.9/site-packages/ai_api_client_sdk/helpers/rest_client.py:108\u001b[0m, in \u001b[0;36mRestClient.post\u001b[0;34m(self, path, body, resource_group)\u001b[0m\n\u001b[1;32m     83\u001b[0m \u001b[39mdef\u001b[39;00m \u001b[39mpost\u001b[39m(\u001b[39mself\u001b[39m, path: \u001b[39mstr\u001b[39m, body: Dict[\u001b[39mstr\u001b[39m, Union[\u001b[39mstr\u001b[39m, \u001b[39mdict\u001b[39m]] \u001b[39m=\u001b[39m \u001b[39mNone\u001b[39;00m, resource_group: \u001b[39mstr\u001b[39m \u001b[39m=\u001b[39m \u001b[39mNone\u001b[39;00m) \u001b[39m-\u001b[39m\u001b[39m>\u001b[39m \u001b[39mdict\u001b[39m:\n\u001b[1;32m     84\u001b[0m     \u001b[39m\"\"\"Sends a POST request to the server.\u001b[39;00m\n\u001b[1;32m     85\u001b[0m \n\u001b[1;32m     86\u001b[0m \u001b[39m    :param path: path of the endpoint the request should be sent to\u001b[39;00m\n\u001b[0;32m   (...)\u001b[0m\n\u001b[1;32m    106\u001b[0m \u001b[39m    :rtype: dict\u001b[39;00m\n\u001b[1;32m    107\u001b[0m \u001b[39m    \"\"\"\u001b[39;00m\n\u001b[0;32m--> 108\u001b[0m     \u001b[39mreturn\u001b[39;00m \u001b[39mself\u001b[39;49m\u001b[39m.\u001b[39;49m_handle_request(\u001b[39m'\u001b[39;49m\u001b[39mpost\u001b[39;49m\u001b[39m'\u001b[39;49m, path\u001b[39m=\u001b[39;49mpath, body_json\u001b[39m=\u001b[39;49mbody, resource_group\u001b[39m=\u001b[39;49mresource_group)\n",
                        "File \u001b[0;32m/usr/local/Caskroom/miniconda/base/envs/qatar-dc/lib/python3.9/site-packages/ai_api_client_sdk/helpers/rest_client.py:47\u001b[0m, in \u001b[0;36mRestClient._handle_request\u001b[0;34m(self, method, path, params, body_json, resource_group)\u001b[0m\n\u001b[1;32m     45\u001b[0m     params \u001b[39m=\u001b[39m humps\u001b[39m.\u001b[39mcamelize(params)\n\u001b[1;32m     46\u001b[0m \u001b[39mtry\u001b[39;00m:\n\u001b[0;32m---> 47\u001b[0m     response \u001b[39m=\u001b[39m requests_function(url\u001b[39m=\u001b[39;49murl, params\u001b[39m=\u001b[39;49mparams, json\u001b[39m=\u001b[39;49mbody_json, headers\u001b[39m=\u001b[39;49mheaders)\n\u001b[1;32m     48\u001b[0m     \u001b[39mif\u001b[39;00m response\u001b[39m.\u001b[39mstatus_code \u001b[39m==\u001b[39m \u001b[39m401\u001b[39m:\n\u001b[1;32m     49\u001b[0m         \u001b[39mraise\u001b[39;00m AIAPIAuthorizationException(description\u001b[39m=\u001b[39merror_description, error_message\u001b[39m=\u001b[39mresponse\u001b[39m.\u001b[39mtext)\n",
                        "File \u001b[0;32m/usr/local/Caskroom/miniconda/base/envs/qatar-dc/lib/python3.9/site-packages/requests/api.py:115\u001b[0m, in \u001b[0;36mpost\u001b[0;34m(url, data, json, **kwargs)\u001b[0m\n\u001b[1;32m    103\u001b[0m \u001b[39mdef\u001b[39;00m \u001b[39mpost\u001b[39m(url, data\u001b[39m=\u001b[39m\u001b[39mNone\u001b[39;00m, json\u001b[39m=\u001b[39m\u001b[39mNone\u001b[39;00m, \u001b[39m*\u001b[39m\u001b[39m*\u001b[39mkwargs):\n\u001b[1;32m    104\u001b[0m     \u001b[39mr\u001b[39m\u001b[39m\"\"\"Sends a POST request.\u001b[39;00m\n\u001b[1;32m    105\u001b[0m \n\u001b[1;32m    106\u001b[0m \u001b[39m    :param url: URL for the new :class:`Request` object.\u001b[39;00m\n\u001b[0;32m   (...)\u001b[0m\n\u001b[1;32m    112\u001b[0m \u001b[39m    :rtype: requests.Response\u001b[39;00m\n\u001b[1;32m    113\u001b[0m \u001b[39m    \"\"\"\u001b[39;00m\n\u001b[0;32m--> 115\u001b[0m     \u001b[39mreturn\u001b[39;00m request(\u001b[39m\"\u001b[39;49m\u001b[39mpost\u001b[39;49m\u001b[39m\"\u001b[39;49m, url, data\u001b[39m=\u001b[39;49mdata, json\u001b[39m=\u001b[39;49mjson, \u001b[39m*\u001b[39;49m\u001b[39m*\u001b[39;49mkwargs)\n",
                        "File \u001b[0;32m/usr/local/Caskroom/miniconda/base/envs/qatar-dc/lib/python3.9/site-packages/requests/api.py:59\u001b[0m, in \u001b[0;36mrequest\u001b[0;34m(method, url, **kwargs)\u001b[0m\n\u001b[1;32m     55\u001b[0m \u001b[39m# By using the 'with' statement we are sure the session is closed, thus we\u001b[39;00m\n\u001b[1;32m     56\u001b[0m \u001b[39m# avoid leaving sockets open which can trigger a ResourceWarning in some\u001b[39;00m\n\u001b[1;32m     57\u001b[0m \u001b[39m# cases, and look like a memory leak in others.\u001b[39;00m\n\u001b[1;32m     58\u001b[0m \u001b[39mwith\u001b[39;00m sessions\u001b[39m.\u001b[39mSession() \u001b[39mas\u001b[39;00m session:\n\u001b[0;32m---> 59\u001b[0m     \u001b[39mreturn\u001b[39;00m session\u001b[39m.\u001b[39;49mrequest(method\u001b[39m=\u001b[39;49mmethod, url\u001b[39m=\u001b[39;49murl, \u001b[39m*\u001b[39;49m\u001b[39m*\u001b[39;49mkwargs)\n",
                        "File \u001b[0;32m/usr/local/Caskroom/miniconda/base/envs/qatar-dc/lib/python3.9/site-packages/requests/sessions.py:587\u001b[0m, in \u001b[0;36mSession.request\u001b[0;34m(self, method, url, params, data, headers, cookies, files, auth, timeout, allow_redirects, proxies, hooks, stream, verify, cert, json)\u001b[0m\n\u001b[1;32m    582\u001b[0m send_kwargs \u001b[39m=\u001b[39m {\n\u001b[1;32m    583\u001b[0m     \u001b[39m\"\u001b[39m\u001b[39mtimeout\u001b[39m\u001b[39m\"\u001b[39m: timeout,\n\u001b[1;32m    584\u001b[0m     \u001b[39m\"\u001b[39m\u001b[39mallow_redirects\u001b[39m\u001b[39m\"\u001b[39m: allow_redirects,\n\u001b[1;32m    585\u001b[0m }\n\u001b[1;32m    586\u001b[0m send_kwargs\u001b[39m.\u001b[39mupdate(settings)\n\u001b[0;32m--> 587\u001b[0m resp \u001b[39m=\u001b[39m \u001b[39mself\u001b[39;49m\u001b[39m.\u001b[39;49msend(prep, \u001b[39m*\u001b[39;49m\u001b[39m*\u001b[39;49msend_kwargs)\n\u001b[1;32m    589\u001b[0m \u001b[39mreturn\u001b[39;00m resp\n",
                        "File \u001b[0;32m/usr/local/Caskroom/miniconda/base/envs/qatar-dc/lib/python3.9/site-packages/requests/sessions.py:701\u001b[0m, in \u001b[0;36mSession.send\u001b[0;34m(self, request, **kwargs)\u001b[0m\n\u001b[1;32m    698\u001b[0m start \u001b[39m=\u001b[39m preferred_clock()\n\u001b[1;32m    700\u001b[0m \u001b[39m# Send the request\u001b[39;00m\n\u001b[0;32m--> 701\u001b[0m r \u001b[39m=\u001b[39m adapter\u001b[39m.\u001b[39;49msend(request, \u001b[39m*\u001b[39;49m\u001b[39m*\u001b[39;49mkwargs)\n\u001b[1;32m    703\u001b[0m \u001b[39m# Total elapsed time of the request (approximately)\u001b[39;00m\n\u001b[1;32m    704\u001b[0m elapsed \u001b[39m=\u001b[39m preferred_clock() \u001b[39m-\u001b[39m start\n",
                        "File \u001b[0;32m/usr/local/Caskroom/miniconda/base/envs/qatar-dc/lib/python3.9/site-packages/requests/adapters.py:489\u001b[0m, in \u001b[0;36mHTTPAdapter.send\u001b[0;34m(self, request, stream, timeout, verify, cert, proxies)\u001b[0m\n\u001b[1;32m    487\u001b[0m \u001b[39mtry\u001b[39;00m:\n\u001b[1;32m    488\u001b[0m     \u001b[39mif\u001b[39;00m \u001b[39mnot\u001b[39;00m chunked:\n\u001b[0;32m--> 489\u001b[0m         resp \u001b[39m=\u001b[39m conn\u001b[39m.\u001b[39;49murlopen(\n\u001b[1;32m    490\u001b[0m             method\u001b[39m=\u001b[39;49mrequest\u001b[39m.\u001b[39;49mmethod,\n\u001b[1;32m    491\u001b[0m             url\u001b[39m=\u001b[39;49murl,\n\u001b[1;32m    492\u001b[0m             body\u001b[39m=\u001b[39;49mrequest\u001b[39m.\u001b[39;49mbody,\n\u001b[1;32m    493\u001b[0m             headers\u001b[39m=\u001b[39;49mrequest\u001b[39m.\u001b[39;49mheaders,\n\u001b[1;32m    494\u001b[0m             redirect\u001b[39m=\u001b[39;49m\u001b[39mFalse\u001b[39;49;00m,\n\u001b[1;32m    495\u001b[0m             assert_same_host\u001b[39m=\u001b[39;49m\u001b[39mFalse\u001b[39;49;00m,\n\u001b[1;32m    496\u001b[0m             preload_content\u001b[39m=\u001b[39;49m\u001b[39mFalse\u001b[39;49;00m,\n\u001b[1;32m    497\u001b[0m             decode_content\u001b[39m=\u001b[39;49m\u001b[39mFalse\u001b[39;49;00m,\n\u001b[1;32m    498\u001b[0m             retries\u001b[39m=\u001b[39;49m\u001b[39mself\u001b[39;49m\u001b[39m.\u001b[39;49mmax_retries,\n\u001b[1;32m    499\u001b[0m             timeout\u001b[39m=\u001b[39;49mtimeout,\n\u001b[1;32m    500\u001b[0m         )\n\u001b[1;32m    502\u001b[0m     \u001b[39m# Send the request.\u001b[39;00m\n\u001b[1;32m    503\u001b[0m     \u001b[39melse\u001b[39;00m:\n\u001b[1;32m    504\u001b[0m         \u001b[39mif\u001b[39;00m \u001b[39mhasattr\u001b[39m(conn, \u001b[39m\"\u001b[39m\u001b[39mproxy_pool\u001b[39m\u001b[39m\"\u001b[39m):\n",
                        "File \u001b[0;32m/usr/local/Caskroom/miniconda/base/envs/qatar-dc/lib/python3.9/site-packages/urllib3/connectionpool.py:703\u001b[0m, in \u001b[0;36mHTTPConnectionPool.urlopen\u001b[0;34m(self, method, url, body, headers, retries, redirect, assert_same_host, timeout, pool_timeout, release_conn, chunked, body_pos, **response_kw)\u001b[0m\n\u001b[1;32m    700\u001b[0m     \u001b[39mself\u001b[39m\u001b[39m.\u001b[39m_prepare_proxy(conn)\n\u001b[1;32m    702\u001b[0m \u001b[39m# Make the request on the httplib connection object.\u001b[39;00m\n\u001b[0;32m--> 703\u001b[0m httplib_response \u001b[39m=\u001b[39m \u001b[39mself\u001b[39;49m\u001b[39m.\u001b[39;49m_make_request(\n\u001b[1;32m    704\u001b[0m     conn,\n\u001b[1;32m    705\u001b[0m     method,\n\u001b[1;32m    706\u001b[0m     url,\n\u001b[1;32m    707\u001b[0m     timeout\u001b[39m=\u001b[39;49mtimeout_obj,\n\u001b[1;32m    708\u001b[0m     body\u001b[39m=\u001b[39;49mbody,\n\u001b[1;32m    709\u001b[0m     headers\u001b[39m=\u001b[39;49mheaders,\n\u001b[1;32m    710\u001b[0m     chunked\u001b[39m=\u001b[39;49mchunked,\n\u001b[1;32m    711\u001b[0m )\n\u001b[1;32m    713\u001b[0m \u001b[39m# If we're going to release the connection in ``finally:``, then\u001b[39;00m\n\u001b[1;32m    714\u001b[0m \u001b[39m# the response doesn't need to know about the connection. Otherwise\u001b[39;00m\n\u001b[1;32m    715\u001b[0m \u001b[39m# it will also try to release it and we'll have a double-release\u001b[39;00m\n\u001b[1;32m    716\u001b[0m \u001b[39m# mess.\u001b[39;00m\n\u001b[1;32m    717\u001b[0m response_conn \u001b[39m=\u001b[39m conn \u001b[39mif\u001b[39;00m \u001b[39mnot\u001b[39;00m release_conn \u001b[39melse\u001b[39;00m \u001b[39mNone\u001b[39;00m\n",
                        "File \u001b[0;32m/usr/local/Caskroom/miniconda/base/envs/qatar-dc/lib/python3.9/site-packages/urllib3/connectionpool.py:449\u001b[0m, in \u001b[0;36mHTTPConnectionPool._make_request\u001b[0;34m(self, conn, method, url, timeout, chunked, **httplib_request_kw)\u001b[0m\n\u001b[1;32m    444\u001b[0m             httplib_response \u001b[39m=\u001b[39m conn\u001b[39m.\u001b[39mgetresponse()\n\u001b[1;32m    445\u001b[0m         \u001b[39mexcept\u001b[39;00m \u001b[39mBaseException\u001b[39;00m \u001b[39mas\u001b[39;00m e:\n\u001b[1;32m    446\u001b[0m             \u001b[39m# Remove the TypeError from the exception chain in\u001b[39;00m\n\u001b[1;32m    447\u001b[0m             \u001b[39m# Python 3 (including for exceptions like SystemExit).\u001b[39;00m\n\u001b[1;32m    448\u001b[0m             \u001b[39m# Otherwise it looks like a bug in the code.\u001b[39;00m\n\u001b[0;32m--> 449\u001b[0m             six\u001b[39m.\u001b[39;49mraise_from(e, \u001b[39mNone\u001b[39;49;00m)\n\u001b[1;32m    450\u001b[0m \u001b[39mexcept\u001b[39;00m (SocketTimeout, BaseSSLError, SocketError) \u001b[39mas\u001b[39;00m e:\n\u001b[1;32m    451\u001b[0m     \u001b[39mself\u001b[39m\u001b[39m.\u001b[39m_raise_timeout(err\u001b[39m=\u001b[39me, url\u001b[39m=\u001b[39murl, timeout_value\u001b[39m=\u001b[39mread_timeout)\n",
                        "File \u001b[0;32m<string>:3\u001b[0m, in \u001b[0;36mraise_from\u001b[0;34m(value, from_value)\u001b[0m\n",
                        "File \u001b[0;32m/usr/local/Caskroom/miniconda/base/envs/qatar-dc/lib/python3.9/site-packages/urllib3/connectionpool.py:444\u001b[0m, in \u001b[0;36mHTTPConnectionPool._make_request\u001b[0;34m(self, conn, method, url, timeout, chunked, **httplib_request_kw)\u001b[0m\n\u001b[1;32m    441\u001b[0m \u001b[39mexcept\u001b[39;00m \u001b[39mTypeError\u001b[39;00m:\n\u001b[1;32m    442\u001b[0m     \u001b[39m# Python 3\u001b[39;00m\n\u001b[1;32m    443\u001b[0m     \u001b[39mtry\u001b[39;00m:\n\u001b[0;32m--> 444\u001b[0m         httplib_response \u001b[39m=\u001b[39m conn\u001b[39m.\u001b[39;49mgetresponse()\n\u001b[1;32m    445\u001b[0m     \u001b[39mexcept\u001b[39;00m \u001b[39mBaseException\u001b[39;00m \u001b[39mas\u001b[39;00m e:\n\u001b[1;32m    446\u001b[0m         \u001b[39m# Remove the TypeError from the exception chain in\u001b[39;00m\n\u001b[1;32m    447\u001b[0m         \u001b[39m# Python 3 (including for exceptions like SystemExit).\u001b[39;00m\n\u001b[1;32m    448\u001b[0m         \u001b[39m# Otherwise it looks like a bug in the code.\u001b[39;00m\n\u001b[1;32m    449\u001b[0m         six\u001b[39m.\u001b[39mraise_from(e, \u001b[39mNone\u001b[39;00m)\n",
                        "File \u001b[0;32m/usr/local/Caskroom/miniconda/base/envs/qatar-dc/lib/python3.9/http/client.py:1377\u001b[0m, in \u001b[0;36mHTTPConnection.getresponse\u001b[0;34m(self)\u001b[0m\n\u001b[1;32m   1375\u001b[0m \u001b[39mtry\u001b[39;00m:\n\u001b[1;32m   1376\u001b[0m     \u001b[39mtry\u001b[39;00m:\n\u001b[0;32m-> 1377\u001b[0m         response\u001b[39m.\u001b[39;49mbegin()\n\u001b[1;32m   1378\u001b[0m     \u001b[39mexcept\u001b[39;00m \u001b[39mConnectionError\u001b[39;00m:\n\u001b[1;32m   1379\u001b[0m         \u001b[39mself\u001b[39m\u001b[39m.\u001b[39mclose()\n",
                        "File \u001b[0;32m/usr/local/Caskroom/miniconda/base/envs/qatar-dc/lib/python3.9/http/client.py:320\u001b[0m, in \u001b[0;36mHTTPResponse.begin\u001b[0;34m(self)\u001b[0m\n\u001b[1;32m    318\u001b[0m \u001b[39m# read until we get a non-100 response\u001b[39;00m\n\u001b[1;32m    319\u001b[0m \u001b[39mwhile\u001b[39;00m \u001b[39mTrue\u001b[39;00m:\n\u001b[0;32m--> 320\u001b[0m     version, status, reason \u001b[39m=\u001b[39m \u001b[39mself\u001b[39;49m\u001b[39m.\u001b[39;49m_read_status()\n\u001b[1;32m    321\u001b[0m     \u001b[39mif\u001b[39;00m status \u001b[39m!=\u001b[39m CONTINUE:\n\u001b[1;32m    322\u001b[0m         \u001b[39mbreak\u001b[39;00m\n",
                        "File \u001b[0;32m/usr/local/Caskroom/miniconda/base/envs/qatar-dc/lib/python3.9/http/client.py:281\u001b[0m, in \u001b[0;36mHTTPResponse._read_status\u001b[0;34m(self)\u001b[0m\n\u001b[1;32m    280\u001b[0m \u001b[39mdef\u001b[39;00m \u001b[39m_read_status\u001b[39m(\u001b[39mself\u001b[39m):\n\u001b[0;32m--> 281\u001b[0m     line \u001b[39m=\u001b[39m \u001b[39mstr\u001b[39m(\u001b[39mself\u001b[39;49m\u001b[39m.\u001b[39;49mfp\u001b[39m.\u001b[39;49mreadline(_MAXLINE \u001b[39m+\u001b[39;49m \u001b[39m1\u001b[39;49m), \u001b[39m\"\u001b[39m\u001b[39miso-8859-1\u001b[39m\u001b[39m\"\u001b[39m)\n\u001b[1;32m    282\u001b[0m     \u001b[39mif\u001b[39;00m \u001b[39mlen\u001b[39m(line) \u001b[39m>\u001b[39m _MAXLINE:\n\u001b[1;32m    283\u001b[0m         \u001b[39mraise\u001b[39;00m LineTooLong(\u001b[39m\"\u001b[39m\u001b[39mstatus line\u001b[39m\u001b[39m\"\u001b[39m)\n",
                        "File \u001b[0;32m/usr/local/Caskroom/miniconda/base/envs/qatar-dc/lib/python3.9/socket.py:704\u001b[0m, in \u001b[0;36mSocketIO.readinto\u001b[0;34m(self, b)\u001b[0m\n\u001b[1;32m    702\u001b[0m \u001b[39mwhile\u001b[39;00m \u001b[39mTrue\u001b[39;00m:\n\u001b[1;32m    703\u001b[0m     \u001b[39mtry\u001b[39;00m:\n\u001b[0;32m--> 704\u001b[0m         \u001b[39mreturn\u001b[39;00m \u001b[39mself\u001b[39;49m\u001b[39m.\u001b[39;49m_sock\u001b[39m.\u001b[39;49mrecv_into(b)\n\u001b[1;32m    705\u001b[0m     \u001b[39mexcept\u001b[39;00m timeout:\n\u001b[1;32m    706\u001b[0m         \u001b[39mself\u001b[39m\u001b[39m.\u001b[39m_timeout_occurred \u001b[39m=\u001b[39m \u001b[39mTrue\u001b[39;00m\n",
                        "File \u001b[0;32m/usr/local/Caskroom/miniconda/base/envs/qatar-dc/lib/python3.9/ssl.py:1241\u001b[0m, in \u001b[0;36mSSLSocket.recv_into\u001b[0;34m(self, buffer, nbytes, flags)\u001b[0m\n\u001b[1;32m   1237\u001b[0m     \u001b[39mif\u001b[39;00m flags \u001b[39m!=\u001b[39m \u001b[39m0\u001b[39m:\n\u001b[1;32m   1238\u001b[0m         \u001b[39mraise\u001b[39;00m \u001b[39mValueError\u001b[39;00m(\n\u001b[1;32m   1239\u001b[0m           \u001b[39m\"\u001b[39m\u001b[39mnon-zero flags not allowed in calls to recv_into() on \u001b[39m\u001b[39m%s\u001b[39;00m\u001b[39m\"\u001b[39m \u001b[39m%\u001b[39m\n\u001b[1;32m   1240\u001b[0m           \u001b[39mself\u001b[39m\u001b[39m.\u001b[39m\u001b[39m__class__\u001b[39m)\n\u001b[0;32m-> 1241\u001b[0m     \u001b[39mreturn\u001b[39;00m \u001b[39mself\u001b[39;49m\u001b[39m.\u001b[39;49mread(nbytes, buffer)\n\u001b[1;32m   1242\u001b[0m \u001b[39melse\u001b[39;00m:\n\u001b[1;32m   1243\u001b[0m     \u001b[39mreturn\u001b[39;00m \u001b[39msuper\u001b[39m()\u001b[39m.\u001b[39mrecv_into(buffer, nbytes, flags)\n",
                        "File \u001b[0;32m/usr/local/Caskroom/miniconda/base/envs/qatar-dc/lib/python3.9/ssl.py:1099\u001b[0m, in \u001b[0;36mSSLSocket.read\u001b[0;34m(self, len, buffer)\u001b[0m\n\u001b[1;32m   1097\u001b[0m \u001b[39mtry\u001b[39;00m:\n\u001b[1;32m   1098\u001b[0m     \u001b[39mif\u001b[39;00m buffer \u001b[39mis\u001b[39;00m \u001b[39mnot\u001b[39;00m \u001b[39mNone\u001b[39;00m:\n\u001b[0;32m-> 1099\u001b[0m         \u001b[39mreturn\u001b[39;00m \u001b[39mself\u001b[39;49m\u001b[39m.\u001b[39;49m_sslobj\u001b[39m.\u001b[39;49mread(\u001b[39mlen\u001b[39;49m, buffer)\n\u001b[1;32m   1100\u001b[0m     \u001b[39melse\u001b[39;00m:\n\u001b[1;32m   1101\u001b[0m         \u001b[39mreturn\u001b[39;00m \u001b[39mself\u001b[39m\u001b[39m.\u001b[39m_sslobj\u001b[39m.\u001b[39mread(\u001b[39mlen\u001b[39m)\n",
                        "\u001b[0;31mKeyboardInterrupt\u001b[0m: "
                    ]
                }
            ],
            "source": [
                "with open(s3_service_key_path) as s3sk:\n",
                "    s3_service_key = json.load(s3sk)\n",
                "\n",
                "default_secret = {\n",
                "    \"name\": connection_name, # Name of the connection.\n",
                "    \"type\": \"S3\",\n",
                "    \"endpoint\": s3_service_key[\"host\"],\n",
                "    \"bucket\": s3_service_key[\"bucket\"],\n",
                "    \"pathPrefix\": path_prefix,\n",
                "    \"region\": s3_service_key[\"region\"],\n",
                "    \"data\": {\n",
                "        \"AWS_ACCESS_KEY_ID\": s3_service_key[\"access_key_id\"],\n",
                "        \"AWS_SECRET_ACCESS_KEY\": s3_service_key[\"secret_access_key\"]\n",
                "    }\n",
                "}\n",
                "\n",
                "ai_api_client.rest_client.post(\n",
                "    path=\"/admin/objectStoreSecrets\",\n",
                "    body = default_secret,\n",
                "    resource_group = resource_group\n",
                ")"
            ]
        },
        {
            "cell_type": "markdown",
            "metadata": {},
            "source": [
                "DOCKER IMAGES STORED IN code/train AND code/infer NEED TO BE BUILT AND PUSHED TO DOCKER HUB\n",
                "THROUGH THE DOCKER CLI.  \n",
                "See: https://developers.sap.com/tutorials/ai-core-aiapi-clientsdk-workflows.html#f824a41d-efe8-4883-8238-caef4ac5f789"
            ]
        },
        {
            "cell_type": "code",
            "execution_count": 139,
            "metadata": {},
            "outputs": [],
            "source": [
                "# Create another AI API client to use different base url.\n",
                "ai_api_v2_client = AIAPIV2Client(\n",
                "    base_url=aic_service_key[\"serviceurls\"][\"AI_API_URL\"] + \"/v2/lm\",\n",
                "    auth_url=aic_service_key[\"url\"] + \"/oauth/token\",\n",
                "    client_id=aic_service_key['clientid'],\n",
                "    client_secret=aic_service_key['clientsecret'],\n",
                "    resource_group=resource_group)"
            ]
        },
        {
            "cell_type": "markdown",
            "metadata": {},
            "source": [
                "### Register training data as artifact"
            ]
        },
        {
            "cell_type": "code",
            "execution_count": null,
            "metadata": {},
            "outputs": [],
            "source": [
                "with open(training_workflow_file) as twf:\n",
                "    training_workflow = yaml.safe_load(twf)\n",
                "\n",
                "scenario_id = training_workflow['metadata']['labels']['scenarios.ai.sap.com/id']\n",
                "\n",
                "# Set the artifact configuration.\n",
                "artifact = {\n",
                "        \"name\": resource_group, # Modifiable name\n",
                "        \"kind\": Artifact.Kind.DATASET,\n",
                "        # Path has to contain the connection name used above for the AWS S3 bucket.\n",
                "        \"url\": f\"ai://{connection_name}/data\",\n",
                "        \"description\": \"The training data set.\",\n",
                "        \"scenario_id\": scenario_id\n",
                "}\n",
                "\n",
                "artifact_resp = ai_api_v2_client.artifact.create(**artifact)\n",
                "print(f\"Artifacts registered for {scenario_id} scenario!\")\n",
                "pprint(vars(artifact_resp)) \n",
                "\n",
                "assert artifact_resp.message == 'Artifact acknowledged'"
            ]
        },
        {
            "cell_type": "markdown",
            "metadata": {},
            "source": [
                "### Create Training Configuration"
            ]
        },
        {
            "cell_type": "code",
            "execution_count": 140,
            "metadata": {},
            "outputs": [
                {
                    "name": "stdout",
                    "output_type": "stream",
                    "text": [
                        "{'id': '0df9436f-98ae-41c2-835c-e6811d648850',\n",
                        " 'message': 'Configuration created'}\n",
                        "Configuration created for running the training\n"
                    ]
                }
            ],
            "source": [
                "input_artifact_name = training_workflow['spec']['templates'][0]['inputs']['artifacts'][0]['name']\n",
                "executable_name = training_workflow['metadata']['name']\n",
                "\n",
                "artifact_binding = {\n",
                "    \"key\": input_artifact_name,\n",
                "    \"artifact_id\": artifact_resp.id\n",
                "}\n",
                "\n",
                "train_configuration = {\n",
                "    \"name\": resource_group,\n",
                "    \"scenario_id\": scenario_id,\n",
                "    \"executable_id\": executable_name,\n",
                "    \"parameter_bindings\": [],\n",
                "    \"input_artifact_bindings\": [ InputArtifactBinding(**artifact_binding) ]\n",
                "}\n",
                "\n",
                "train_config_resp = ai_api_v2_client.configuration.create(**train_configuration)\n",
                "pprint(vars(train_config_resp))\n",
                "\n",
                "assert train_config_resp.message == 'Configuration created'\n",
                "\n",
                "print(\"Configuration created for running the training\")"
            ]
        },
        {
            "cell_type": "markdown",
            "metadata": {},
            "source": [
                "### Training Execution"
            ]
        },
        {
            "cell_type": "code",
            "execution_count": 146,
            "metadata": {},
            "outputs": [
                {
                    "name": "stdout",
                    "output_type": "stream",
                    "text": [
                        "...... execution status ......\n",
                        "Training status: Status.COMPLETED\n",
                        "Training status details: None\n",
                        "Training complete for execution [e922976a6eeb5446]!\n"
                    ]
                }
            ],
            "source": [
                "execution_resp = ai_api_v2_client.execution.create(train_config_resp.id)\n",
                "pprint(vars(execution_resp))\n",
                "\n",
                "status = None\n",
                "# Wait until training finished.\n",
                "while status != Status.COMPLETED and status != Status.DEAD:\n",
                "    # Sleep for 5 secs to avoid overwhelming the API with requests.\n",
                "    time.sleep(5)\n",
                "    # Clear outputs to reduce clutter.\n",
                "    clear_output(wait=True)\n",
                "\n",
                "    execution = ai_api_v2_client.execution.get(execution_resp.id)\n",
                "    status = execution.status\n",
                "    print('...... execution status ......', flush=True)\n",
                "    print(f\"Training status: {execution.status}\")\n",
                "    print(f\"Training status details: {execution.status_details}\")\n",
                "\n",
                "\n",
                "if execution.status == Status.COMPLETED:\n",
                "    print(f\"Training complete for execution [{execution_resp.id}]!\")\n",
                "    output_artifact = execution.output_artifacts[0]\n",
                "    output = {\n",
                "        \"id\": output_artifact.id,\n",
                "        \"name\": output_artifact.name,\n",
                "        \"url\": output_artifact.url\n",
                "    }\n",
                "    with open('../training_output.json', 'w') as fp:\n",
                "        json.dump(output, fp)"
            ]
        },
        {
            "cell_type": "markdown",
            "metadata": {},
            "source": [
                "### Create configuration to serve the model"
            ]
        },
        {
            "cell_type": "code",
            "execution_count": 149,
            "metadata": {},
            "outputs": [
                {
                    "name": "stdout",
                    "output_type": "stream",
                    "text": [
                        "{'id': '089efc03-6b0a-41ec-b799-fb822bdb40e0',\n",
                        " 'message': 'Configuration created'}\n",
                        "configuration for serving the model created\n"
                    ]
                }
            ],
            "source": [
                "with open(serving_workflow_file) as swf:\n",
                "    serving_workflow = yaml.safe_load(swf)\n",
                "\n",
                "scenario_id = serving_workflow['metadata']['labels']['scenarios.ai.sap.com/id']\n",
                "input_artifact_name = serving_workflow['spec']['inputs']['artifacts'][0]['name']\n",
                "executable_name = serving_workflow['metadata']['name']\n",
                "\n",
                "training_output = '../training_output.json'\n",
                "with open(training_output) as to:\n",
                "    serving_input = json.load(to)\n",
                "\n",
                "artifact_binding = {\n",
                "    \"key\": input_artifact_name,\n",
                "    \"artifact_id\": serving_input[\"id\"]\n",
                "}\n",
                "\n",
                "serve_configuration = {\n",
                "    \"name\": f\"{resource_group}-serve\",\n",
                "    \"scenario_id\": scenario_id,\n",
                "    \"executable_id\": executable_name,\n",
                "    \"parameter_bindings\": [],\n",
                "    \"input_artifact_bindings\": [ InputArtifactBinding(**artifact_binding) ]\n",
                "}\n",
                "\n",
                "serve_config_resp = ai_api_v2_client.configuration.create(**serve_configuration)\n",
                "\n",
                "assert serve_config_resp.message == 'Configuration created'\n",
                "\n",
                "pprint(vars(serve_config_resp))\n",
                "print(\"configuration for serving the model created\")"
            ]
        },
        {
            "cell_type": "markdown",
            "metadata": {},
            "source": [
                "### Actually serve/deploy the model"
            ]
        },
        {
            "cell_type": "code",
            "execution_count": 150,
            "metadata": {},
            "outputs": [
                {
                    "name": "stdout",
                    "output_type": "stream",
                    "text": [
                        "...... deployment status ......\n",
                        "Status.RUNNING\n",
                        "None\n",
                        "Deployment with d31b5360276c2443 complete!\n"
                    ]
                }
            ],
            "source": [
                "deployment_resp = ai_api_v2_client.deployment.create(serve_config_resp.id)\n",
                "pprint(vars(deployment_resp))\n",
                "\n",
                "# Poll deployment status.\n",
                "status = None\n",
                "while status != Status.RUNNING and status != Status.DEAD:\n",
                "    time.sleep(5)\n",
                "    clear_output(wait=True)\n",
                "    deployment = ai_api_v2_client.deployment.get(deployment_resp.id)\n",
                "    status = deployment.status\n",
                "    print('...... deployment status ......', flush=True)\n",
                "    print(deployment.status)\n",
                "    pprint(deployment.status_details)\n",
                "\n",
                "    if deployment.status == Status.RUNNING:\n",
                "        print(f\"Deployment with {deployment_resp.id} complete!\")\n",
                "\n",
                "# Allow some time for deployment URL to get ready.\n",
                "time.sleep(10)"
            ]
        },
        {
            "cell_type": "markdown",
            "metadata": {},
            "source": [
                "### Do an inference request"
            ]
        },
        {
            "cell_type": "code",
            "execution_count": 151,
            "metadata": {},
            "outputs": [
                {
                    "name": "stdout",
                    "output_type": "stream",
                    "text": [
                        "Inference result: {'predictions': [[87.89493892895823, 51.28017265137158], [88.49765829031011, 58.17775078637164]]}\n",
                        "{'_content': b'{\"predictions\":[[87.89493892895823,51.28017265137158],[88.497658'\n",
                        "             b'29031011,58.17775078637164]]}\\n',\n",
                        " '_content_consumed': True,\n",
                        " '_next': None,\n",
                        " 'connection': <requests.adapters.HTTPAdapter object at 0x7f7a00f59b50>,\n",
                        " 'cookies': <RequestsCookieJar[]>,\n",
                        " 'elapsed': datetime.timedelta(microseconds=312137),\n",
                        " 'encoding': 'utf-8',\n",
                        " 'headers': {'content-length': '94', 'content-type': 'application/json', 'date': 'Fri, 15 Jul 2022 10:58:48 GMT', 'server': 'istio-envoy', 'x-envoy-upstream-service-time': '106'},\n",
                        " 'history': [],\n",
                        " 'raw': <urllib3.response.HTTPResponse object at 0x7f7998306730>,\n",
                        " 'reason': 'OK',\n",
                        " 'request': <PreparedRequest [POST]>,\n",
                        " 'status_code': 200,\n",
                        " 'url': 'https://api.ai.prod.eu-central-1.aws.ml.hana.ondemand.com/v2/inference/deployments/d31b5360276c2443/v1/models/restaurant-inspections:predict'}\n"
                    ]
                }
            ],
            "source": [
                "body = { \n",
                "    \"payload\": [\n",
                "        {\n",
                "            \"business_postal_code\": \"94102\",\n",
                "            \"violation_description\": \"Unapproved or unmaintained equipment or utensils. Moderate risk food holding temperature. Noncompliance with HAACP plan or variance. Inadequate food safety knowledge or lack of certified food safety manager.\"\n",
                "        },\n",
                "        {\n",
                "            \"business_postal_code\": \"94102\",\n",
                "            \"violation_description\": \"Moderate risk food holding temperature. Noncompliance with HAACP plan or variance. Inadequate food safety knowledge or lack of certified food safety manager.\"\n",
                "        }\n",
                "    ]\n",
                "}\n",
                "\n",
                "endpoint = f\"{deployment.deployment_url}/v1/models/{resource_group}:predict\"\n",
                "headers = {\"Authorization\": ai_api_v2_client.rest_client.get_token(),\n",
                "           'ai-resource-group': resource_group,\n",
                "           \"Content-Type\": \"application/json\"}\n",
                "response = requests.post(endpoint, headers=headers, json=body)\n",
                "\n",
                "print('Inference result:', response.json())\n",
                "pprint(vars(response))"
            ]
        },
        {
            "cell_type": "markdown",
            "metadata": {},
            "source": [
                "### Kill deployment"
            ]
        },
        {
            "cell_type": "code",
            "execution_count": null,
            "metadata": {},
            "outputs": [],
            "source": [
                "delete_resp = ai_api_v2_client.deployment.modify(deployment_resp.id,\n",
                "                                                 target_status=TargetStatus.STOPPED)\n",
                "status = None\n",
                "while status != Status.STOPPED:\n",
                "    time.sleep(5)\n",
                "    clear_output(wait=True)\n",
                "    deployment = ai_api_v2_client.deployment.get(deployment_resp.id)\n",
                "    status = deployment.status\n",
                "    print('...... killing deployment ......', flush=True)\n",
                "    print(f\"Deployment status: {deployment.status}\")"
            ]
        }
    ],
    "metadata": {
        "kernelspec": {
            "display_name": "Python 3.9.12 64-bit ('qatar-dc')",
            "language": "python",
            "name": "python3"
        },
        "language_info": {
            "codemirror_mode": {
                "name": "ipython",
                "version": 3
            },
            "file_extension": ".py",
            "mimetype": "text/x-python",
            "name": "python",
            "nbconvert_exporter": "python",
            "pygments_lexer": "ipython3",
            "version": "3.9.12"
        },
        "orig_nbformat": 4,
        "vscode": {
            "interpreter": {
                "hash": "2085f17269cc5f0a92df58c5bfe5feeff635fac6ffe4f10f1dcbff18e129c4ed"
            }
        }
    },
    "nbformat": 4,
    "nbformat_minor": 2
}
